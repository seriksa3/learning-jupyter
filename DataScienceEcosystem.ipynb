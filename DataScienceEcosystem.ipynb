{
 "cells": [
  {
   "cell_type": "markdown",
   "id": "37d9f0f6-4e5c-4c81-853b-b1300e2246e2",
   "metadata": {},
   "source": [
    "# Data Science Tools and Ecosystem"
   ]
  },
  {
   "cell_type": "markdown",
   "id": "8294a3e0-12de-4a1b-8f20-3f67c62b5cd7",
   "metadata": {},
   "source": [
    "In this notebook, Data Science Tools and Ecosystem are summarized."
   ]
  },
  {
   "cell_type": "markdown",
   "id": "278005b2-b6d2-4bbb-8631-08b10db37bb2",
   "metadata": {},
   "source": [
    "## Objectives:\n",
    "* List Of Popular Languages \n",
    "* List Of Popular Libraries \n",
    "* Data Science Tools\n",
    "* Evaluating Arithmetic Operations"
   ]
  },
  {
   "cell_type": "markdown",
   "id": "f953bbda-db22-4f83-9c3d-2907e6e4d677",
   "metadata": {},
   "source": [
    "Some of the popular languages that Data Scientists use are:\n",
    "1. Python.\n",
    "2. R. \n",
    "3. C.\n",
    "4. Julia.\n",
    "5. Java\n",
    "6. SQL\n",
    "7. Scala\n"
   ]
  },
  {
   "cell_type": "markdown",
   "id": "d4c4ac12-a84b-4625-8541-a8ad108c597d",
   "metadata": {},
   "source": [
    "Some of the commonly used libraries used by Data Scientists include:\n",
    "1. Pandas\n",
    "2. Seaborn\n",
    "3. PyTorch\n",
    "4. NumPy\n",
    "5. Matplotlib\n",
    "6. Keras\n",
    "7. Scikit\n",
    "8. TensoorFlow\n"
   ]
  },
  {
   "cell_type": "markdown",
   "id": "f26b25f3-0c3b-4a3f-992d-f82f7fb8d085",
   "metadata": {},
   "source": [
    "| Data Science Tools |\n",
    "| ----------  | \n",
    "| Jupyter Notebooks  |\n",
    "| Anaconda | \n",
    "| JupyterLab |\n",
    "| GoogleColab |"
   ]
  },
  {
   "cell_type": "markdown",
   "id": "355e80aa-191c-41de-81be-d789c8cb3931",
   "metadata": {},
   "source": [
    "### Below are a few examples of evaluating arithmetic expressions in Python"
   ]
  },
  {
   "cell_type": "code",
   "execution_count": 2,
   "id": "1d4d5b86-fc27-4505-82f0-a53256251ae6",
   "metadata": {
    "tags": []
   },
   "outputs": [
    {
     "data": {
      "text/plain": [
       "17"
      ]
     },
     "execution_count": 2,
     "metadata": {},
     "output_type": "execute_result"
    }
   ],
   "source": [
    "#This a simple arithmetic expression to mutiply then add integers\n",
    "(3*4)+5"
   ]
  },
  {
   "cell_type": "code",
   "execution_count": 3,
   "id": "758c1ae1-a872-462e-b40e-6710ae9de046",
   "metadata": {
    "tags": []
   },
   "outputs": [
    {
     "data": {
      "text/plain": [
       "3.3333333333333335"
      ]
     },
     "execution_count": 3,
     "metadata": {},
     "output_type": "execute_result"
    }
   ],
   "source": [
    "#This will convert 200 minutes to hours by diving by 60\n",
    "minutes = 200\n",
    "hours = 60\n",
    "min_to_hours = 200/60\n",
    "min_to_hours\n"
   ]
  },
  {
   "cell_type": "markdown",
   "id": "aeac4868-f89f-4d8e-bada-6accdf56ad0a",
   "metadata": {},
   "source": [
    "## Authors\n",
    "Kelly Serika"
   ]
  }
 ],
 "metadata": {
  "kernelspec": {
   "display_name": "Python",
   "language": "python",
   "name": "conda-env-python-py"
  },
  "language_info": {
   "codemirror_mode": {
    "name": "ipython",
    "version": 3
   },
   "file_extension": ".py",
   "mimetype": "text/x-python",
   "name": "python",
   "nbconvert_exporter": "python",
   "pygments_lexer": "ipython3",
   "version": "3.7.12"
  }
 },
 "nbformat": 4,
 "nbformat_minor": 5
}
